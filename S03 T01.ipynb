{
 "cells": [
  {
   "cell_type": "markdown",
   "id": "3956b293",
   "metadata": {},
   "source": [
    "Ejercicio 1"
   ]
  },
  {
   "cell_type": "code",
   "execution_count": 2,
   "id": "26bd5974",
   "metadata": {},
   "outputs": [],
   "source": [
    "T1=[\"enero\", \"febrero\", \"marzo\"]\n",
    "T2=[\"abril\", \"mayo\", \"junio\"]\n",
    "T3=[\"julio\", \"agosto\", \"septiembre\"]\n",
    "T4=[\"octubre\", \"noviembre\", \"diciembre\"]\n",
    "Meses=[T1, T2, T3, T4]\n"
   ]
  },
  {
   "cell_type": "markdown",
   "id": "d59b6f97",
   "metadata": {},
   "source": [
    "Ejercicio 2"
   ]
  },
  {
   "cell_type": "code",
   "execution_count": 11,
   "id": "3d94d222",
   "metadata": {},
   "outputs": [
    {
     "name": "stdout",
     "output_type": "stream",
     "text": [
      "febrero\n",
      "['enero', 'febrero', 'marzo']\n",
      "septiembreoctubre\n"
     ]
    }
   ],
   "source": [
    "#el 2do mes de T1\n",
    "print(T1[1])\n",
    "\n",
    "#los meses de T1\n",
    "print(Meses[0])\n",
    "\n",
    "#septiembre y octubre\n",
    "print(T3[2]+ T4[0])"
   ]
  },
  {
   "cell_type": "markdown",
   "id": "53a821e6",
   "metadata": {},
   "source": [
    "Ejercicio 3"
   ]
  },
  {
   "cell_type": "code",
   "execution_count": 1,
   "id": "a746b906",
   "metadata": {},
   "outputs": [
    {
     "name": "stdout",
     "output_type": "stream",
     "text": [
      "9\n",
      "1\n",
      "2\n",
      "8\n",
      "[0, 1, 1]\n",
      "0\n",
      "8\n"
     ]
    }
   ],
   "source": [
    "lista=[0, 1, 1, 3, 4, 7, 6, 8, 5]\n",
    "\n",
    "#cuantos num hay?\n",
    "print(len(lista))\n",
    "\n",
    "#cuantas veces aparece 3?\n",
    "print(lista.count(3))\n",
    "\n",
    "#cuantas veces aparece 3 y 4?\n",
    "x= lista.count(3)\n",
    "y= lista.count(4)\n",
    "print(x+y)\n",
    "\n",
    "#cual es el nro mas grande?\n",
    "lista.sort()\n",
    "print(lista[len(lista)-1])\n",
    "\n",
    "#cuales son los 3 nros mas chicos?\n",
    "print(lista[:3])\n",
    "\n",
    "#cual es el rango de esta lista?\n",
    "#el rango se encuentra identificando los mins y max. Como la lista ya esta ordenada, solo falta el ult paso.\n",
    "print(lista[0]) #min\n",
    "print (lista[len(lista)-1])#max"
   ]
  },
  {
   "cell_type": "markdown",
   "id": "3af32aed",
   "metadata": {},
   "source": [
    "Ejercicio 4"
   ]
  },
  {
   "cell_type": "code",
   "execution_count": 46,
   "id": "ce11fc85",
   "metadata": {
    "scrolled": true
   },
   "outputs": [
    {
     "name": "stdout",
     "output_type": "stream",
     "text": [
      "1.98\n",
      "[{'cant': 5, '€': 0.42}, {'cant': 3, '€': 0.66}, {'cant': 2, '€': 0.32}]\n",
      "10\n",
      "pera es la fruta más cara\n"
     ]
    }
   ],
   "source": [
    "compra={\"manzana\": {\"cant\":5, \"€\":0.42},\"pera\": {\"cant\":3, \"€\":0.66}}\n",
    "\n",
    "#agregar una fruta mas\n",
    "compra[\"naranja\"]= {\"cant\":2, \"€\":0.32}\n",
    "\n",
    "#valor de las peras\n",
    "x= compra.get(\"pera\")\n",
    "cantidad= x.get(\"cant\")\n",
    "precio= x.get(\"€\")\n",
    "print(cantidad*precio)\n",
    "\n",
    "#cuantas frutas compramos en total\n",
    "valores= compra.values()\n",
    "valores_lista= list(valores)\n",
    "print(valores_lista)\n",
    "apple= valores_lista[0]\n",
    "num1=apple[\"cant\"]\n",
    "pear= valores_lista[1]\n",
    "num2= pear[\"cant\"]\n",
    "orange= valores_lista[2]\n",
    "num3= orange[\"cant\"]\n",
    "resultado= num1+ num2 + num3\n",
    "print (resultado)\n",
    "\n",
    "#mas facil así: \n",
    "#compra[\"manzana\"][\"cant\"] \n",
    "\n",
    "#cual es la fruta mas cara\n",
    "precio_manzana= compras[\"manzana\"][\"€\"]\n",
    "precio_pera= compra[\"pera\"][\"€\"]\n",
    "precio_naranja= compra [\"naranja\"][\"€\"]\n",
    "lista_precios=[]\n",
    "lista_precios.append(precio_manzana)\n",
    "lista_precios.append(precio_pera)\n",
    "lista_precios.append(precio_naranja)\n",
    "lista_precios.sort()\n",
    "lista_precios[2] #este es el más caro\n",
    "\n",
    "if lista_precios[2] == precio_manzana:\n",
    "    print (\"manzana es la fruta más cara\")\n",
    "elif lista_precios[2] == precio_pera:\n",
    "    print (\"pera es la fruta más cara\")\n",
    "else:\n",
    "    print (\"naranja es la fruta más cara\")\n"
   ]
  },
  {
   "cell_type": "code",
   "execution_count": null,
   "id": "84e26e0d",
   "metadata": {},
   "outputs": [],
   "source": []
  }
 ],
 "metadata": {
  "kernelspec": {
   "display_name": "Python 3",
   "language": "python",
   "name": "python3"
  },
  "language_info": {
   "codemirror_mode": {
    "name": "ipython",
    "version": 3
   },
   "file_extension": ".py",
   "mimetype": "text/x-python",
   "name": "python",
   "nbconvert_exporter": "python",
   "pygments_lexer": "ipython3",
   "version": "3.8.8"
  }
 },
 "nbformat": 4,
 "nbformat_minor": 5
}
